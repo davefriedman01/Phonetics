{
 "cells": [
  {
   "attachments": {},
   "cell_type": "markdown",
   "metadata": {},
   "source": [
    "# Lab 3"
   ]
  },
  {
   "attachments": {},
   "cell_type": "markdown",
   "metadata": {},
   "source": [
    "---"
   ]
  },
  {
   "attachments": {},
   "cell_type": "markdown",
   "metadata": {},
   "source": [
    "```{admonition} Revised\n",
    "13 Mar 2023\n",
    "```\n",
    "```{contents}\n",
    "```"
   ]
  },
  {
   "attachments": {},
   "cell_type": "markdown",
   "metadata": {},
   "source": [
    "---"
   ]
  },
  {
   "attachments": {},
   "cell_type": "markdown",
   "metadata": {},
   "source": [
    "## hæd"
   ]
  },
  {
   "attachments": {},
   "cell_type": "markdown",
   "metadata": {},
   "source": [
    "![](img/00.png)"
   ]
  },
  {
   "attachments": {},
   "cell_type": "markdown",
   "metadata": {},
   "source": [
    "---"
   ]
  },
  {
   "attachments": {},
   "cell_type": "markdown",
   "metadata": {},
   "source": [
    "## hɛd"
   ]
  },
  {
   "attachments": {},
   "cell_type": "markdown",
   "metadata": {},
   "source": [
    "![](img/01.png)"
   ]
  },
  {
   "attachments": {},
   "cell_type": "markdown",
   "metadata": {},
   "source": [
    "---"
   ]
  },
  {
   "attachments": {},
   "cell_type": "markdown",
   "metadata": {},
   "source": [
    "## hid"
   ]
  },
  {
   "attachments": {},
   "cell_type": "markdown",
   "metadata": {},
   "source": [
    "![](img/02.png)"
   ]
  },
  {
   "attachments": {},
   "cell_type": "markdown",
   "metadata": {},
   "source": [
    "---"
   ]
  },
  {
   "attachments": {},
   "cell_type": "markdown",
   "metadata": {},
   "source": [
    "## hɪd"
   ]
  },
  {
   "attachments": {},
   "cell_type": "markdown",
   "metadata": {},
   "source": [
    "![](img/03.png)"
   ]
  },
  {
   "attachments": {},
   "cell_type": "markdown",
   "metadata": {},
   "source": [
    "---"
   ]
  },
  {
   "attachments": {},
   "cell_type": "markdown",
   "metadata": {},
   "source": [
    "## hɑd"
   ]
  },
  {
   "attachments": {},
   "cell_type": "markdown",
   "metadata": {},
   "source": [
    "![](img/04.png)"
   ]
  },
  {
   "attachments": {},
   "cell_type": "markdown",
   "metadata": {},
   "source": [
    "---"
   ]
  },
  {
   "attachments": {},
   "cell_type": "markdown",
   "metadata": {},
   "source": [
    "## hʊd"
   ]
  },
  {
   "attachments": {},
   "cell_type": "markdown",
   "metadata": {},
   "source": [
    "![](img/05.png)"
   ]
  },
  {
   "attachments": {},
   "cell_type": "markdown",
   "metadata": {},
   "source": [
    "---"
   ]
  },
  {
   "attachments": {},
   "cell_type": "markdown",
   "metadata": {},
   "source": [
    "## hʌd"
   ]
  },
  {
   "attachments": {},
   "cell_type": "markdown",
   "metadata": {},
   "source": [
    "![](img/06.png)"
   ]
  },
  {
   "attachments": {},
   "cell_type": "markdown",
   "metadata": {},
   "source": [
    "---"
   ]
  },
  {
   "attachments": {},
   "cell_type": "markdown",
   "metadata": {},
   "source": [
    "## hud"
   ]
  },
  {
   "attachments": {},
   "cell_type": "markdown",
   "metadata": {},
   "source": [
    "![](img/07.png)"
   ]
  },
  {
   "attachments": {},
   "cell_type": "markdown",
   "metadata": {},
   "source": [
    "---"
   ]
  },
  {
   "attachments": {},
   "cell_type": "markdown",
   "metadata": {},
   "source": [
    "## hɔd"
   ]
  },
  {
   "attachments": {},
   "cell_type": "markdown",
   "metadata": {},
   "source": [
    "![](img/08.png)"
   ]
  },
  {
   "attachments": {},
   "cell_type": "markdown",
   "metadata": {},
   "source": [
    "---"
   ]
  },
  {
   "attachments": {},
   "cell_type": "markdown",
   "metadata": {},
   "source": [
    "## bæt"
   ]
  },
  {
   "attachments": {},
   "cell_type": "markdown",
   "metadata": {},
   "source": [
    "![](img/09.png)"
   ]
  },
  {
   "attachments": {},
   "cell_type": "markdown",
   "metadata": {},
   "source": [
    "---"
   ]
  },
  {
   "attachments": {},
   "cell_type": "markdown",
   "metadata": {},
   "source": [
    "## bɛd"
   ]
  },
  {
   "attachments": {},
   "cell_type": "markdown",
   "metadata": {},
   "source": [
    "![](img/10.png)"
   ]
  },
  {
   "attachments": {},
   "cell_type": "markdown",
   "metadata": {},
   "source": [
    "---"
   ]
  },
  {
   "attachments": {},
   "cell_type": "markdown",
   "metadata": {},
   "source": [
    "## bid"
   ]
  },
  {
   "attachments": {},
   "cell_type": "markdown",
   "metadata": {},
   "source": [
    "![](img/11.png)"
   ]
  },
  {
   "attachments": {},
   "cell_type": "markdown",
   "metadata": {},
   "source": [
    "---"
   ]
  },
  {
   "attachments": {},
   "cell_type": "markdown",
   "metadata": {},
   "source": [
    "## bɪd"
   ]
  },
  {
   "attachments": {},
   "cell_type": "markdown",
   "metadata": {},
   "source": [
    "![](img/12.png)"
   ]
  },
  {
   "attachments": {},
   "cell_type": "markdown",
   "metadata": {},
   "source": [
    "---"
   ]
  },
  {
   "attachments": {},
   "cell_type": "markdown",
   "metadata": {},
   "source": [
    "## bɑd"
   ]
  },
  {
   "attachments": {},
   "cell_type": "markdown",
   "metadata": {},
   "source": [
    "![](img/13.png)"
   ]
  },
  {
   "attachments": {},
   "cell_type": "markdown",
   "metadata": {},
   "source": [
    "---"
   ]
  },
  {
   "attachments": {},
   "cell_type": "markdown",
   "metadata": {},
   "source": [
    "## bʊk"
   ]
  },
  {
   "attachments": {},
   "cell_type": "markdown",
   "metadata": {},
   "source": [
    "![](img/14.png)"
   ]
  },
  {
   "attachments": {},
   "cell_type": "markdown",
   "metadata": {},
   "source": [
    "---"
   ]
  },
  {
   "attachments": {},
   "cell_type": "markdown",
   "metadata": {},
   "source": [
    "## bʌd"
   ]
  },
  {
   "attachments": {},
   "cell_type": "markdown",
   "metadata": {},
   "source": [
    "![](img/15.png)"
   ]
  },
  {
   "attachments": {},
   "cell_type": "markdown",
   "metadata": {},
   "source": [
    "---"
   ]
  },
  {
   "attachments": {},
   "cell_type": "markdown",
   "metadata": {},
   "source": [
    "## bud"
   ]
  },
  {
   "attachments": {},
   "cell_type": "markdown",
   "metadata": {},
   "source": [
    "![](img/16.png)"
   ]
  },
  {
   "attachments": {},
   "cell_type": "markdown",
   "metadata": {},
   "source": [
    "---"
   ]
  },
  {
   "attachments": {},
   "cell_type": "markdown",
   "metadata": {},
   "source": [
    "## bɔt"
   ]
  },
  {
   "attachments": {},
   "cell_type": "markdown",
   "metadata": {},
   "source": [
    "![](img/17.png)"
   ]
  },
  {
   "attachments": {},
   "cell_type": "markdown",
   "metadata": {},
   "source": [
    "---"
   ]
  },
  {
   "cell_type": "code",
   "execution_count": 5,
   "metadata": {
    "vscode": {
     "languageId": "r"
    }
   },
   "outputs": [
    {
     "data": {
      "text/html": [
       "<div>\n",
       "<style scoped>\n",
       "    .dataframe tbody tr th:only-of-type {\n",
       "        vertical-align: middle;\n",
       "    }\n",
       "\n",
       "    .dataframe tbody tr th {\n",
       "        vertical-align: top;\n",
       "    }\n",
       "\n",
       "    .dataframe thead th {\n",
       "        text-align: right;\n",
       "    }\n",
       "</style>\n",
       "<table border=\"1\" class=\"dataframe\">\n",
       "  <thead>\n",
       "    <tr style=\"text-align: right;\">\n",
       "      <th></th>\n",
       "      <th>vowel</th>\n",
       "      <th>word</th>\n",
       "      <th>avg_F1_Hz</th>\n",
       "      <th>avg_F2_Hz</th>\n",
       "    </tr>\n",
       "  </thead>\n",
       "  <tbody>\n",
       "    <tr>\n",
       "      <th>0</th>\n",
       "      <td>æ</td>\n",
       "      <td>hæd</td>\n",
       "      <td>772.262360</td>\n",
       "      <td>1731.686621</td>\n",
       "    </tr>\n",
       "    <tr>\n",
       "      <th>1</th>\n",
       "      <td>ɛ</td>\n",
       "      <td>hɛd</td>\n",
       "      <td>574.208631</td>\n",
       "      <td>1918.637683</td>\n",
       "    </tr>\n",
       "    <tr>\n",
       "      <th>2</th>\n",
       "      <td>i</td>\n",
       "      <td>hid</td>\n",
       "      <td>305.923394</td>\n",
       "      <td>2458.499666</td>\n",
       "    </tr>\n",
       "    <tr>\n",
       "      <th>3</th>\n",
       "      <td>ɪ</td>\n",
       "      <td>hɪd</td>\n",
       "      <td>453.573095</td>\n",
       "      <td>2072.923488</td>\n",
       "    </tr>\n",
       "    <tr>\n",
       "      <th>4</th>\n",
       "      <td>ɑ</td>\n",
       "      <td>hɑd</td>\n",
       "      <td>714.661052</td>\n",
       "      <td>1214.471334</td>\n",
       "    </tr>\n",
       "    <tr>\n",
       "      <th>5</th>\n",
       "      <td>ʊ</td>\n",
       "      <td>hʊd</td>\n",
       "      <td>476.802921</td>\n",
       "      <td>1338.217812</td>\n",
       "    </tr>\n",
       "    <tr>\n",
       "      <th>6</th>\n",
       "      <td>ʌ</td>\n",
       "      <td>hʌd</td>\n",
       "      <td>618.911649</td>\n",
       "      <td>1425.856230</td>\n",
       "    </tr>\n",
       "    <tr>\n",
       "      <th>7</th>\n",
       "      <td>u</td>\n",
       "      <td>hud</td>\n",
       "      <td>318.028627</td>\n",
       "      <td>1095.993126</td>\n",
       "    </tr>\n",
       "    <tr>\n",
       "      <th>8</th>\n",
       "      <td>ɔ</td>\n",
       "      <td>hɔd</td>\n",
       "      <td>610.885975</td>\n",
       "      <td>935.571405</td>\n",
       "    </tr>\n",
       "    <tr>\n",
       "      <th>9</th>\n",
       "      <td>æ</td>\n",
       "      <td>bæt</td>\n",
       "      <td>812.415284</td>\n",
       "      <td>1702.107941</td>\n",
       "    </tr>\n",
       "    <tr>\n",
       "      <th>10</th>\n",
       "      <td>ɛ</td>\n",
       "      <td>bɛd</td>\n",
       "      <td>534.344816</td>\n",
       "      <td>1891.758544</td>\n",
       "    </tr>\n",
       "    <tr>\n",
       "      <th>11</th>\n",
       "      <td>i</td>\n",
       "      <td>bid</td>\n",
       "      <td>289.820412</td>\n",
       "      <td>2429.299914</td>\n",
       "    </tr>\n",
       "    <tr>\n",
       "      <th>12</th>\n",
       "      <td>ɪ</td>\n",
       "      <td>bɪd</td>\n",
       "      <td>450.163565</td>\n",
       "      <td>2009.488014</td>\n",
       "    </tr>\n",
       "    <tr>\n",
       "      <th>13</th>\n",
       "      <td>ɑ</td>\n",
       "      <td>bɑd</td>\n",
       "      <td>708.109173</td>\n",
       "      <td>1189.992625</td>\n",
       "    </tr>\n",
       "    <tr>\n",
       "      <th>14</th>\n",
       "      <td>ʊ</td>\n",
       "      <td>bʊk</td>\n",
       "      <td>497.653048</td>\n",
       "      <td>1020.911355</td>\n",
       "    </tr>\n",
       "    <tr>\n",
       "      <th>15</th>\n",
       "      <td>ʌ</td>\n",
       "      <td>bʌd</td>\n",
       "      <td>606.691412</td>\n",
       "      <td>1372.059085</td>\n",
       "    </tr>\n",
       "    <tr>\n",
       "      <th>16</th>\n",
       "      <td>u</td>\n",
       "      <td>bud</td>\n",
       "      <td>323.434451</td>\n",
       "      <td>1264.241672</td>\n",
       "    </tr>\n",
       "    <tr>\n",
       "      <th>17</th>\n",
       "      <td>ɔ</td>\n",
       "      <td>bɔt</td>\n",
       "      <td>636.740293</td>\n",
       "      <td>994.824262</td>\n",
       "    </tr>\n",
       "  </tbody>\n",
       "</table>\n",
       "</div>"
      ],
      "text/plain": [
       "   vowel word   avg_F1_Hz    avg_F2_Hz\n",
       "0      æ  hæd  772.262360  1731.686621\n",
       "1      ɛ  hɛd  574.208631  1918.637683\n",
       "2      i  hid  305.923394  2458.499666\n",
       "3      ɪ  hɪd  453.573095  2072.923488\n",
       "4      ɑ  hɑd  714.661052  1214.471334\n",
       "5      ʊ  hʊd  476.802921  1338.217812\n",
       "6      ʌ  hʌd  618.911649  1425.856230\n",
       "7      u  hud  318.028627  1095.993126\n",
       "8      ɔ  hɔd  610.885975   935.571405\n",
       "9      æ  bæt  812.415284  1702.107941\n",
       "10     ɛ  bɛd  534.344816  1891.758544\n",
       "11     i  bid  289.820412  2429.299914\n",
       "12     ɪ  bɪd  450.163565  2009.488014\n",
       "13     ɑ  bɑd  708.109173  1189.992625\n",
       "14     ʊ  bʊk  497.653048  1020.911355\n",
       "15     ʌ  bʌd  606.691412  1372.059085\n",
       "16     u  bud  323.434451  1264.241672\n",
       "17     ɔ  bɔt  636.740293   994.824262"
      ]
     },
     "execution_count": 5,
     "metadata": {},
     "output_type": "execute_result"
    }
   ],
   "source": [
    "import pandas as pd\n",
    "\n",
    "cols=[\n",
    "  'vowel',\n",
    "  'word',\n",
    "  'avg_F1_Hz',\n",
    "  'avg_F2_Hz',\n",
    "]\n",
    "\n",
    "df = pd.DataFrame(\n",
    "  data=[\n",
    "    ['æ','hæd',772.2623598361888,1731.6866205977226],\n",
    "    ['ɛ','hɛd',574.208631287283,1918.637682685363],\n",
    "    ['i','hid',305.92339403193955,2458.4996663060283],\n",
    "    ['ɪ','hɪd',453.5730951234637,2072.92348845572],\n",
    "    ['ɑ','hɑd',714.6610521359538,1214.4713341175295],\n",
    "    ['ʊ','hʊd',476.80292121316353,1338.2178121189354],\n",
    "    ['ʌ','hʌd',618.9116494455797,1425.8562296798175],\n",
    "    ['u','hud',318.0286268276335,1095.993125792178],\n",
    "    ['ɔ','hɔd',610.8859754665131,935.5714048615686],\n",
    "    ['æ','bæt',812.4152837356295,1702.1079409783133],\n",
    "    ['ɛ','bɛd',534.3448157343192,1891.7585442888867],\n",
    "    ['i','bid',289.82041231188634,2429.2999144902774],\n",
    "    ['ɪ','bɪd',450.1635653561586,2009.4880143110365],\n",
    "    ['ɑ','bɑd',708.1091727260111,1189.9926250011079],\n",
    "    ['ʊ','bʊk',497.65304819673605,1020.9113547201716],\n",
    "    ['ʌ','bʌd',606.6914116015801,1372.059084614637],\n",
    "    ['u','bud',323.43445114657317,1264.2416721859588],\n",
    "    ['ɔ','bɔt',636.7402932330717,994.824262278683],\n",
    "  ],\n",
    "  columns=cols\n",
    ")\n",
    "df.drop(columns=['word']).set_index(keys=['vowel']).to_csv('lab3_obs.csv')\n",
    "df"
   ]
  },
  {
   "cell_type": "code",
   "execution_count": 6,
   "metadata": {
    "vscode": {
     "languageId": "r"
    }
   },
   "outputs": [
    {
     "data": {
      "text/html": [
       "<div>\n",
       "<style scoped>\n",
       "    .dataframe tbody tr th:only-of-type {\n",
       "        vertical-align: middle;\n",
       "    }\n",
       "\n",
       "    .dataframe tbody tr th {\n",
       "        vertical-align: top;\n",
       "    }\n",
       "\n",
       "    .dataframe thead th {\n",
       "        text-align: right;\n",
       "    }\n",
       "</style>\n",
       "<table border=\"1\" class=\"dataframe\">\n",
       "  <thead>\n",
       "    <tr style=\"text-align: right;\">\n",
       "      <th></th>\n",
       "      <th>avg_F1_Hz</th>\n",
       "      <th>avg_F2_Hz</th>\n",
       "    </tr>\n",
       "    <tr>\n",
       "      <th>vowel</th>\n",
       "      <th></th>\n",
       "      <th></th>\n",
       "    </tr>\n",
       "  </thead>\n",
       "  <tbody>\n",
       "    <tr>\n",
       "      <th>i</th>\n",
       "      <td>297.87</td>\n",
       "      <td>2443.90</td>\n",
       "    </tr>\n",
       "    <tr>\n",
       "      <th>u</th>\n",
       "      <td>320.73</td>\n",
       "      <td>1180.12</td>\n",
       "    </tr>\n",
       "    <tr>\n",
       "      <th>æ</th>\n",
       "      <td>792.34</td>\n",
       "      <td>1716.90</td>\n",
       "    </tr>\n",
       "    <tr>\n",
       "      <th>ɑ</th>\n",
       "      <td>711.39</td>\n",
       "      <td>1202.23</td>\n",
       "    </tr>\n",
       "    <tr>\n",
       "      <th>ɔ</th>\n",
       "      <td>623.81</td>\n",
       "      <td>965.20</td>\n",
       "    </tr>\n",
       "    <tr>\n",
       "      <th>ɛ</th>\n",
       "      <td>554.28</td>\n",
       "      <td>1905.20</td>\n",
       "    </tr>\n",
       "    <tr>\n",
       "      <th>ɪ</th>\n",
       "      <td>451.87</td>\n",
       "      <td>2041.21</td>\n",
       "    </tr>\n",
       "    <tr>\n",
       "      <th>ʊ</th>\n",
       "      <td>487.23</td>\n",
       "      <td>1179.56</td>\n",
       "    </tr>\n",
       "    <tr>\n",
       "      <th>ʌ</th>\n",
       "      <td>612.80</td>\n",
       "      <td>1398.96</td>\n",
       "    </tr>\n",
       "  </tbody>\n",
       "</table>\n",
       "</div>"
      ],
      "text/plain": [
       "       avg_F1_Hz  avg_F2_Hz\n",
       "vowel                      \n",
       "i         297.87    2443.90\n",
       "u         320.73    1180.12\n",
       "æ         792.34    1716.90\n",
       "ɑ         711.39    1202.23\n",
       "ɔ         623.81     965.20\n",
       "ɛ         554.28    1905.20\n",
       "ɪ         451.87    2041.21\n",
       "ʊ         487.23    1179.56\n",
       "ʌ         612.80    1398.96"
      ]
     },
     "execution_count": 6,
     "metadata": {},
     "output_type": "execute_result"
    }
   ],
   "source": [
    "df = df.drop(columns=['word']).groupby(by=['vowel']).mean().round(2)\n",
    "df.to_csv('lab3_avg.csv')\n",
    "df"
   ]
  },
  {
   "attachments": {},
   "cell_type": "markdown",
   "metadata": {},
   "source": [
    "---"
   ]
  },
  {
   "cell_type": "code",
   "execution_count": 1,
   "metadata": {
    "vscode": {
     "languageId": "r"
    }
   },
   "outputs": [
    {
     "data": {
      "text/html": [
       "'/Library/Frameworks/R.framework/Versions/4.2-arm64/Resources/library'"
      ],
      "text/latex": [
       "'/Library/Frameworks/R.framework/Versions/4.2-arm64/Resources/library'"
      ],
      "text/markdown": [
       "'/Library/Frameworks/R.framework/Versions/4.2-arm64/Resources/library'"
      ],
      "text/plain": [
       "[1] \"/Library/Frameworks/R.framework/Versions/4.2-arm64/Resources/library\""
      ]
     },
     "metadata": {},
     "output_type": "display_data"
    }
   ],
   "source": [
    ".libPaths()"
   ]
  },
  {
   "cell_type": "code",
   "execution_count": 2,
   "metadata": {
    "vscode": {
     "languageId": "r"
    }
   },
   "outputs": [
    {
     "name": "stderr",
     "output_type": "stream",
     "text": [
      "\n",
      "Attaching package: ‘dplyr’\n",
      "\n",
      "\n",
      "The following objects are masked from ‘package:stats’:\n",
      "\n",
      "    filter, lag\n",
      "\n",
      "\n",
      "The following objects are masked from ‘package:base’:\n",
      "\n",
      "    intersect, setdiff, setequal, union\n",
      "\n",
      "\n",
      "── \u001b[1mAttaching packages\u001b[22m ─────────────────────────────────────── tidyverse 1.3.2 ──\n",
      "\u001b[32m✔\u001b[39m \u001b[34mtibble \u001b[39m 3.1.7     \u001b[32m✔\u001b[39m \u001b[34mstringr\u001b[39m 1.4.0\n",
      "\u001b[32m✔\u001b[39m \u001b[34mtidyr  \u001b[39m 1.2.0     \u001b[32m✔\u001b[39m \u001b[34mforcats\u001b[39m 0.5.1\n",
      "\u001b[32m✔\u001b[39m \u001b[34mpurrr  \u001b[39m 0.3.4     \n",
      "── \u001b[1mConflicts\u001b[22m ────────────────────────────────────────── tidyverse_conflicts() ──\n",
      "\u001b[31m✖\u001b[39m \u001b[34mdplyr\u001b[39m::\u001b[32mfilter()\u001b[39m masks \u001b[34mstats\u001b[39m::filter()\n",
      "\u001b[31m✖\u001b[39m \u001b[34mdplyr\u001b[39m::\u001b[32mlag()\u001b[39m    masks \u001b[34mstats\u001b[39m::lag()\n",
      "\n",
      "Attaching package: ‘scales’\n",
      "\n",
      "\n",
      "The following object is masked from ‘package:purrr’:\n",
      "\n",
      "    discard\n",
      "\n",
      "\n",
      "The following object is masked from ‘package:readr’:\n",
      "\n",
      "    col_factor\n",
      "\n",
      "\n",
      "\n",
      "Attaching package: ‘magrittr’\n",
      "\n",
      "\n",
      "The following object is masked from ‘package:purrr’:\n",
      "\n",
      "    set_names\n",
      "\n",
      "\n",
      "The following object is masked from ‘package:tidyr’:\n",
      "\n",
      "    extract\n",
      "\n",
      "\n"
     ]
    }
   ],
   "source": [
    "packages <- c(\n",
    "  'ggplot2',\n",
    "  'readr',\n",
    "  'dplyr',\n",
    "  'tidyverse',\n",
    "  'scales',\n",
    "  'repr',\n",
    "  'phonR',\n",
    "  'vowels',\n",
    "  'magrittr'\n",
    ")\n",
    "\n",
    "# Install packages not yet installed\n",
    "installed_packages <- packages %in% rownames(installed.packages())\n",
    "if (any(installed_packages == FALSE)) {\n",
    "  install.packages(packages[!installed_packages])\n",
    "}\n",
    "\n",
    "# Load packages\n",
    "invisible(lapply(packages, library, character.only = TRUE))"
   ]
  },
  {
   "cell_type": "code",
   "execution_count": 3,
   "metadata": {
    "vscode": {
     "languageId": "r"
    }
   },
   "outputs": [
    {
     "data": {
      "text/html": [
       "<table class=\"dataframe\">\n",
       "<caption>A data.frame: 9 × 3</caption>\n",
       "<thead>\n",
       "\t<tr><th scope=col>vowel</th><th scope=col>avg_F1_Hz</th><th scope=col>avg_F2_Hz</th></tr>\n",
       "\t<tr><th scope=col>&lt;chr&gt;</th><th scope=col>&lt;dbl&gt;</th><th scope=col>&lt;dbl&gt;</th></tr>\n",
       "</thead>\n",
       "<tbody>\n",
       "\t<tr><td>i</td><td>297.87</td><td>2443.90</td></tr>\n",
       "\t<tr><td>u</td><td>320.73</td><td>1180.12</td></tr>\n",
       "\t<tr><td>æ</td><td>792.34</td><td>1716.90</td></tr>\n",
       "\t<tr><td>ɑ</td><td>711.39</td><td>1202.23</td></tr>\n",
       "\t<tr><td>ɔ</td><td>623.81</td><td> 965.20</td></tr>\n",
       "\t<tr><td>ɛ</td><td>554.28</td><td>1905.20</td></tr>\n",
       "\t<tr><td>ɪ</td><td>451.87</td><td>2041.21</td></tr>\n",
       "\t<tr><td>ʊ</td><td>487.23</td><td>1179.56</td></tr>\n",
       "\t<tr><td>ʌ</td><td>612.80</td><td>1398.96</td></tr>\n",
       "</tbody>\n",
       "</table>\n"
      ],
      "text/latex": [
       "A data.frame: 9 × 3\n",
       "\\begin{tabular}{lll}\n",
       " vowel & avg\\_F1\\_Hz & avg\\_F2\\_Hz\\\\\n",
       " <chr> & <dbl> & <dbl>\\\\\n",
       "\\hline\n",
       "\t i & 297.87 & 2443.90\\\\\n",
       "\t u & 320.73 & 1180.12\\\\\n",
       "\t æ & 792.34 & 1716.90\\\\\n",
       "\t ɑ & 711.39 & 1202.23\\\\\n",
       "\t ɔ & 623.81 &  965.20\\\\\n",
       "\t ɛ & 554.28 & 1905.20\\\\\n",
       "\t ɪ & 451.87 & 2041.21\\\\\n",
       "\t ʊ & 487.23 & 1179.56\\\\\n",
       "\t ʌ & 612.80 & 1398.96\\\\\n",
       "\\end{tabular}\n"
      ],
      "text/markdown": [
       "\n",
       "A data.frame: 9 × 3\n",
       "\n",
       "| vowel &lt;chr&gt; | avg_F1_Hz &lt;dbl&gt; | avg_F2_Hz &lt;dbl&gt; |\n",
       "|---|---|---|\n",
       "| i | 297.87 | 2443.90 |\n",
       "| u | 320.73 | 1180.12 |\n",
       "| æ | 792.34 | 1716.90 |\n",
       "| ɑ | 711.39 | 1202.23 |\n",
       "| ɔ | 623.81 |  965.20 |\n",
       "| ɛ | 554.28 | 1905.20 |\n",
       "| ɪ | 451.87 | 2041.21 |\n",
       "| ʊ | 487.23 | 1179.56 |\n",
       "| ʌ | 612.80 | 1398.96 |\n",
       "\n"
      ],
      "text/plain": [
       "  vowel avg_F1_Hz avg_F2_Hz\n",
       "1 i     297.87    2443.90  \n",
       "2 u     320.73    1180.12  \n",
       "3 æ     792.34    1716.90  \n",
       "4 ɑ     711.39    1202.23  \n",
       "5 ɔ     623.81     965.20  \n",
       "6 ɛ     554.28    1905.20  \n",
       "7 ɪ     451.87    2041.21  \n",
       "8 ʊ     487.23    1179.56  \n",
       "9 ʌ     612.80    1398.96  "
      ]
     },
     "metadata": {},
     "output_type": "display_data"
    }
   ],
   "source": [
    "vowels <- read.csv('lab3_avg.csv') #read.delim('lab3.csv',sep=',',encoding='UTF-8')\n",
    "vowels"
   ]
  },
  {
   "cell_type": "code",
   "execution_count": 4,
   "metadata": {
    "vscode": {
     "languageId": "r"
    }
   },
   "outputs": [
    {
     "data": {
      "image/png": "[encoded data removed]",
      "text/plain": [
       "plot without title"
      ]
     },
     "metadata": {
      "image/png": {
       "height": 420,
       "width": 420
      }
     },
     "output_type": "display_data"
    }
   ],
   "source": [
    "plt <- ggplot(vowels, aes(x=avg_F2_Hz, y=avg_F1_Hz, label=vowel, color=vowel)) +\n",
    "  geom_text() +\n",
    "  scale_x_reverse() +\n",
    "  scale_y_reverse() +\n",
    "  theme(legend.position='none')\n",
    "\n",
    "suppressWarnings(print(plt))"
   ]
  },
  {
   "attachments": {},
   "cell_type": "markdown",
   "metadata": {},
   "source": [
    "---"
   ]
  },
  {
   "cell_type": "code",
   "execution_count": 5,
   "metadata": {
    "vscode": {
     "languageId": "r"
    }
   },
   "outputs": [
    {
     "data": {
      "text/html": [
       "<table class=\"dataframe\">\n",
       "<caption>A data.frame: 18 × 3</caption>\n",
       "<thead>\n",
       "\t<tr><th scope=col>vowel</th><th scope=col>avg_F1_Hz</th><th scope=col>avg_F2_Hz</th></tr>\n",
       "\t<tr><th scope=col>&lt;chr&gt;</th><th scope=col>&lt;dbl&gt;</th><th scope=col>&lt;dbl&gt;</th></tr>\n",
       "</thead>\n",
       "<tbody>\n",
       "\t<tr><td>æ</td><td>772.2624</td><td>1731.6866</td></tr>\n",
       "\t<tr><td>ɛ</td><td>574.2086</td><td>1918.6377</td></tr>\n",
       "\t<tr><td>i</td><td>305.9234</td><td>2458.4997</td></tr>\n",
       "\t<tr><td>ɪ</td><td>453.5731</td><td>2072.9235</td></tr>\n",
       "\t<tr><td>ɑ</td><td>714.6611</td><td>1214.4713</td></tr>\n",
       "\t<tr><td>ʊ</td><td>476.8029</td><td>1338.2178</td></tr>\n",
       "\t<tr><td>ʌ</td><td>618.9116</td><td>1425.8562</td></tr>\n",
       "\t<tr><td>u</td><td>318.0286</td><td>1095.9931</td></tr>\n",
       "\t<tr><td>ɔ</td><td>610.8860</td><td> 935.5714</td></tr>\n",
       "\t<tr><td>æ</td><td>812.4153</td><td>1702.1079</td></tr>\n",
       "\t<tr><td>ɛ</td><td>534.3448</td><td>1891.7585</td></tr>\n",
       "\t<tr><td>i</td><td>289.8204</td><td>2429.2999</td></tr>\n",
       "\t<tr><td>ɪ</td><td>450.1636</td><td>2009.4880</td></tr>\n",
       "\t<tr><td>ɑ</td><td>708.1092</td><td>1189.9926</td></tr>\n",
       "\t<tr><td>ʊ</td><td>497.6530</td><td>1020.9114</td></tr>\n",
       "\t<tr><td>ʌ</td><td>606.6914</td><td>1372.0591</td></tr>\n",
       "\t<tr><td>u</td><td>323.4345</td><td>1264.2417</td></tr>\n",
       "\t<tr><td>ɔ</td><td>636.7403</td><td> 994.8243</td></tr>\n",
       "</tbody>\n",
       "</table>\n"
      ],
      "text/latex": [
       "A data.frame: 18 × 3\n",
       "\\begin{tabular}{lll}\n",
       " vowel & avg\\_F1\\_Hz & avg\\_F2\\_Hz\\\\\n",
       " <chr> & <dbl> & <dbl>\\\\\n",
       "\\hline\n",
       "\t æ & 772.2624 & 1731.6866\\\\\n",
       "\t ɛ & 574.2086 & 1918.6377\\\\\n",
       "\t i & 305.9234 & 2458.4997\\\\\n",
       "\t ɪ & 453.5731 & 2072.9235\\\\\n",
       "\t ɑ & 714.6611 & 1214.4713\\\\\n",
       "\t ʊ & 476.8029 & 1338.2178\\\\\n",
       "\t ʌ & 618.9116 & 1425.8562\\\\\n",
       "\t u & 318.0286 & 1095.9931\\\\\n",
       "\t ɔ & 610.8860 &  935.5714\\\\\n",
       "\t æ & 812.4153 & 1702.1079\\\\\n",
       "\t ɛ & 534.3448 & 1891.7585\\\\\n",
       "\t i & 289.8204 & 2429.2999\\\\\n",
       "\t ɪ & 450.1636 & 2009.4880\\\\\n",
       "\t ɑ & 708.1092 & 1189.9926\\\\\n",
       "\t ʊ & 497.6530 & 1020.9114\\\\\n",
       "\t ʌ & 606.6914 & 1372.0591\\\\\n",
       "\t u & 323.4345 & 1264.2417\\\\\n",
       "\t ɔ & 636.7403 &  994.8243\\\\\n",
       "\\end{tabular}\n"
      ],
      "text/markdown": [
       "\n",
       "A data.frame: 18 × 3\n",
       "\n",
       "| vowel &lt;chr&gt; | avg_F1_Hz &lt;dbl&gt; | avg_F2_Hz &lt;dbl&gt; |\n",
       "|---|---|---|\n",
       "| æ | 772.2624 | 1731.6866 |\n",
       "| ɛ | 574.2086 | 1918.6377 |\n",
       "| i | 305.9234 | 2458.4997 |\n",
       "| ɪ | 453.5731 | 2072.9235 |\n",
       "| ɑ | 714.6611 | 1214.4713 |\n",
       "| ʊ | 476.8029 | 1338.2178 |\n",
       "| ʌ | 618.9116 | 1425.8562 |\n",
       "| u | 318.0286 | 1095.9931 |\n",
       "| ɔ | 610.8860 |  935.5714 |\n",
       "| æ | 812.4153 | 1702.1079 |\n",
       "| ɛ | 534.3448 | 1891.7585 |\n",
       "| i | 289.8204 | 2429.2999 |\n",
       "| ɪ | 450.1636 | 2009.4880 |\n",
       "| ɑ | 708.1092 | 1189.9926 |\n",
       "| ʊ | 497.6530 | 1020.9114 |\n",
       "| ʌ | 606.6914 | 1372.0591 |\n",
       "| u | 323.4345 | 1264.2417 |\n",
       "| ɔ | 636.7403 |  994.8243 |\n",
       "\n"
      ],
      "text/plain": [
       "   vowel avg_F1_Hz avg_F2_Hz\n",
       "1  æ     772.2624  1731.6866\n",
       "2  ɛ     574.2086  1918.6377\n",
       "3  i     305.9234  2458.4997\n",
       "4  ɪ     453.5731  2072.9235\n",
       "5  ɑ     714.6611  1214.4713\n",
       "6  ʊ     476.8029  1338.2178\n",
       "7  ʌ     618.9116  1425.8562\n",
       "8  u     318.0286  1095.9931\n",
       "9  ɔ     610.8860   935.5714\n",
       "10 æ     812.4153  1702.1079\n",
       "11 ɛ     534.3448  1891.7585\n",
       "12 i     289.8204  2429.2999\n",
       "13 ɪ     450.1636  2009.4880\n",
       "14 ɑ     708.1092  1189.9926\n",
       "15 ʊ     497.6530  1020.9114\n",
       "16 ʌ     606.6914  1372.0591\n",
       "17 u     323.4345  1264.2417\n",
       "18 ɔ     636.7403   994.8243"
      ]
     },
     "metadata": {},
     "output_type": "display_data"
    }
   ],
   "source": [
    "vowels <- read.csv('lab3_obs.csv')\n",
    "vowels"
   ]
  },
  {
   "cell_type": "code",
   "execution_count": 8,
   "metadata": {
    "vscode": {
     "languageId": "r"
    }
   },
   "outputs": [
    {
     "data": {
      "image/png": "[encoded data removed]",
      "text/plain": [
       "plot without title"
      ]
     },
     "metadata": {
      "image/png": {
       "height": 240,
       "width": 600
      }
     },
     "output_type": "display_data"
    }
   ],
   "source": [
    "options(repr.plot.width=10, repr.plot.height=4)\n",
    "\n",
    "plt <- ggplot(data=vowels, aes(x=avg_F2_Hz, y=avg_F1_Hz, color=vowel, label=vowel)) +\n",
    "  geom_text(size=4) +\n",
    "  coord_cartesian(\n",
    "    xlim=c(3000, 200),\n",
    "    ylim=c(1000, 100)) +\n",
    "  theme_classic() +\n",
    "  theme(\n",
    "    legend.position='none',\n",
    "    plot.title=element_text(hjust=0.5),\n",
    "    text=element_text(size=13))\n",
    "\n",
    "suppressWarnings(print(plt))"
   ]
  },
  {
   "cell_type": "code",
   "execution_count": 9,
   "metadata": {
    "vscode": {
     "languageId": "r"
    }
   },
   "outputs": [
    {
     "data": {
      "image/png": "[encoded data removed]",
      "text/plain": [
       "plot without title"
      ]
     },
     "metadata": {
      "image/png": {
       "height": 240,
       "width": 600
      }
     },
     "output_type": "display_data"
    }
   ],
   "source": [
    "options(repr.plot.width=10, repr.plot.height=4)\n",
    "\n",
    "plt <- ggplot(data=vowels, aes(x=avg_F2_Hz, y=avg_F1_Hz, color=vowel, label=vowel))+\n",
    "geom_text(size=6)+ # font size\n",
    "scale_x_reverse(\n",
    "    position='top',\n",
    "    labels=unit_format(unit='Hz', sep=''),\n",
    "    breaks=seq(200, 3000, 500))+\n",
    "scale_y_reverse(\n",
    "    position='right',\n",
    "    labels=unit_format(unit='Hz', sep=''),\n",
    "    breaks=seq(100, 1000, 250))+\n",
    "labs(\n",
    "    x='F2\\n',\n",
    "    y='F1\\n',\n",
    "    title='Density Plot')+\n",
    "geom_density_2d(alpha=0.3)+\n",
    "coord_cartesian(\n",
    "    xlim=c(3000, 200),\n",
    "    ylim=c(1000, 100))+\n",
    "theme_light()+\n",
    "theme(\n",
    "    legend.position='none',\n",
    "    plot.title=element_text(hjust=0.5), # center plot title\n",
    "    text=element_text(size=13))         # plot font size\n",
    "\n",
    "suppressWarnings(print(plt))"
   ]
  },
  {
   "cell_type": "code",
   "execution_count": 10,
   "metadata": {
    "vscode": {
     "languageId": "r"
    }
   },
   "outputs": [
    {
     "name": "stderr",
     "output_type": "stream",
     "text": [
      "Too few points to calculate an ellipse\n",
      "\n",
      "Too few points to calculate an ellipse\n",
      "\n",
      "Too few points to calculate an ellipse\n",
      "\n",
      "Too few points to calculate an ellipse\n",
      "\n",
      "Too few points to calculate an ellipse\n",
      "\n",
      "Too few points to calculate an ellipse\n",
      "\n",
      "Too few points to calculate an ellipse\n",
      "\n",
      "Too few points to calculate an ellipse\n",
      "\n",
      "Too few points to calculate an ellipse\n",
      "\n"
     ]
    },
    {
     "data": {
      "image/png": "[encoded data removed]",
      "text/plain": [
       "plot without title"
      ]
     },
     "metadata": {
      "image/png": {
       "height": 240,
       "width": 600
      }
     },
     "output_type": "display_data"
    }
   ],
   "source": [
    "options(repr.plot.width=10, repr.plot.height=4)\n",
    "\n",
    "plt <- ggplot(data=vowels, aes(x=avg_F2_Hz, y=avg_F1_Hz, color=vowel, label=vowel))+\n",
    "geom_text(size=6)+ # font size\n",
    "scale_x_reverse(\n",
    "    position='top',\n",
    "    labels=unit_format(unit='Hz', sep=''),\n",
    "    breaks=seq(200, 3000, 500))+\n",
    "scale_y_reverse(\n",
    "    position='right',\n",
    "    labels=unit_format(unit='Hz', sep=''),\n",
    "    breaks=seq(100, 1000, 250))+\n",
    "labs(\n",
    "    x='F2\\n',\n",
    "    y='F1\\n',\n",
    "    title='Density Plot')+\n",
    "stat_ellipse(type='norm', alpha=0.3)+\n",
    "coord_cartesian(\n",
    "    xlim=c(3000, 200),\n",
    "    ylim=c(1000, 100))+\n",
    "theme_classic()+\n",
    "theme(\n",
    "    legend.position='none',\n",
    "    plot.title=element_text(hjust=0.5), # center plot title\n",
    "    text=element_text(size=13))         # plot font size\n",
    "\n",
    "suppressWarnings(print(plt))"
   ]
  },
  {
   "cell_type": "code",
   "execution_count": 13,
   "metadata": {
    "vscode": {
     "languageId": "r"
    }
   },
   "outputs": [
    {
     "name": "stderr",
     "output_type": "stream",
     "text": [
      "Too few points to calculate an ellipse\n",
      "\n",
      "Too few points to calculate an ellipse\n",
      "\n",
      "Too few points to calculate an ellipse\n",
      "\n",
      "Too few points to calculate an ellipse\n",
      "\n",
      "Too few points to calculate an ellipse\n",
      "\n",
      "Too few points to calculate an ellipse\n",
      "\n",
      "Too few points to calculate an ellipse\n",
      "\n",
      "Too few points to calculate an ellipse\n",
      "\n",
      "Too few points to calculate an ellipse\n",
      "\n"
     ]
    },
    {
     "data": {
      "image/png": "[encoded data removed]",
      "text/plain": [
       "plot without title"
      ]
     },
     "metadata": {
      "image/png": {
       "height": 240,
       "width": 600
      }
     },
     "output_type": "display_data"
    }
   ],
   "source": [
    "options(repr.plot.width=10, repr.plot.height=4)\n",
    "\n",
    "plt <- ggplot(data=vowels, aes(x=avg_F2_Hz, y=avg_F1_Hz, color=vowel, label=vowel))+\n",
    "geom_label(size=6)+ # font size\n",
    "scale_x_reverse(\n",
    "    position='top',\n",
    "    labels=unit_format(unit='Hz', sep=''),\n",
    "    breaks=seq(200, 3000, 500))+\n",
    "scale_y_reverse(\n",
    "    position='right',\n",
    "    labels=unit_format(unit='Hz', sep=''),\n",
    "    breaks=seq(100, 1000, 250))+\n",
    "labs(\n",
    "    x='F2\\n',\n",
    "    y='F1\\n',\n",
    "    title='Density Plot')+\n",
    "stat_ellipse(data=vowels, aes(x=avg_F2_Hz, y=avg_F1_Hz), type='norm')+\n",
    "coord_cartesian(\n",
    "    xlim=c(3000, 200),\n",
    "    ylim=c(1000, 100))+\n",
    "theme_classic()+\n",
    "theme(\n",
    "    legend.position='none',\n",
    "    plot.title=element_text(hjust=0.5), # center plot title\n",
    "    text=element_text(size=13))         # plot font size\n",
    "\n",
    "suppressWarnings(print(plt))"
   ]
  },
  {
   "attachments": {},
   "cell_type": "markdown",
   "metadata": {},
   "source": [
    "---"
   ]
  }
 ],
 "metadata": {
  "kernelspec": {
   "display_name": "R",
   "language": "R",
   "name": "ir"
  },
  "language_info": {
   "codemirror_mode": "r",
   "file_extension": ".r",
   "mimetype": "text/x-r-source",
   "name": "R",
   "pygments_lexer": "r",
   "version": "4.2.1"
  },
  "orig_nbformat": 4
 },
 "nbformat": 4,
 "nbformat_minor": 2
}
