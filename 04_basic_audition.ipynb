{
 "cells": [
  {
   "attachments": {},
   "cell_type": "markdown",
   "metadata": {},
   "source": [
    "# Basic Audition"
   ]
  },
  {
   "attachments": {},
   "cell_type": "markdown",
   "metadata": {},
   "source": [
    "---"
   ]
  },
  {
   "attachments": {},
   "cell_type": "markdown",
   "metadata": {},
   "source": [
    "## Terms"
   ]
  },
  {
   "attachments": {},
   "cell_type": "markdown",
   "metadata": {},
   "source": [
    "* [[W](https://en.wikipedia.org/wiki/Acoustical_engineering)] Acoustic Engineering\n",
    "* [[W](https://en.wikipedia.org/wiki/Acoustics)] Acoustics\n",
    "* [[W](https://en.wikipedia.org/wiki/Auditory_system)] Auditory System\n",
    "* [[W](https://en.wikipedia.org/wiki/Bark_scale)] Bark Scale\n",
    "* [[W](https://en.wikipedia.org/wiki/Cent_(music))] Cent\n",
    "* [[W](https://en.wikipedia.org/wiki/Cochlea)] Cochlea\n",
    "* [W] Cochleagram (Auditory Spectrogram)\n",
    "* [[W](https://en.wikipedia.org/wiki/Computational_auditory_scene_analysis)] Computational Auditory Scene Analysis\n",
    "* [[W](https://en.wikipedia.org/wiki/Correlogram)] Correlogram\n",
    "* [[W](https://en.wikipedia.org/wiki/Decibel)] Decibel\n",
    "* [[W](https://en.wikipedia.org/wiki/Ear)] Ear\n",
    "* [[W](https://en.wikipedia.org/wiki/Equal-loudness_contour)] Equal-Loudness Contour\n",
    "* [[W](https://en.wikipedia.org/wiki/Incus)] Incus\n",
    "* [[W](https://en.wikipedia.org/wiki/Inner_ear)] Inner Ear\n",
    "* [[W](https://en.wikipedia.org/wiki/Logarithmic_scale)] Logarithmic Scale\n",
    "* [[W](https://en.wikipedia.org/wiki/Malleus)] Malleus\n",
    "* [[W](https://en.wikipedia.org/wiki/Mel_scale)] Mel Scale\n",
    "* [[W](https://en.wikipedia.org/wiki/Ossicles)] Ossicles\n",
    "* [[W](https://en.wikipedia.org/wiki/Outer_ear)] Outer Ear\n",
    "* [[W](https://en.wikipedia.org/wiki/Perilymph)] Perilymph\n",
    "* [[W](https://en.wikipedia.org/wiki/Phon)] Phon\n",
    "* [[W](https://en.wikipedia.org/wiki/Pitch_(music))] Pitch\n",
    "* [[W](https://en.wikipedia.org/wiki/Psychoacoustics)] Psychoacoustics\n",
    "* [[W](https://en.wikipedia.org/wiki/Sone)] Sone\n",
    "* [[W](https://en.wikipedia.org/wiki/Stapes)] Stapes"
   ]
  }
 ],
 "metadata": {
  "language_info": {
   "name": "python"
  },
  "orig_nbformat": 4
 },
 "nbformat": 4,
 "nbformat_minor": 2
}
